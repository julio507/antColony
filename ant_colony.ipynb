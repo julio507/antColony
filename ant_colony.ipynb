{
  "nbformat": 4,
  "nbformat_minor": 0,
  "metadata": {
    "colab": {
      "name": "ant_colony.ipynb",
      "provenance": [],
      "collapsed_sections": [],
      "include_colab_link": true
    },
    "kernelspec": {
      "name": "python3",
      "display_name": "Python 3"
    },
    "language_info": {
      "name": "python"
    }
  },
  "cells": [
    {
      "cell_type": "markdown",
      "metadata": {
        "id": "view-in-github",
        "colab_type": "text"
      },
      "source": [
        "<a href=\"https://colab.research.google.com/github/julio507/antColony/blob/main/ant_colony.ipynb\" target=\"_parent\"><img src=\"https://colab.research.google.com/assets/colab-badge.svg\" alt=\"Open In Colab\"/></a>"
      ]
    },
    {
      "cell_type": "code",
      "metadata": {
        "id": "KsdCUYxot1kZ"
      },
      "source": [
        "#Importacao de bibliotecas\n",
        "import random as rn\n",
        "import numpy as np\n",
        "import pandas as pd\n",
        "from numpy.random import choice as np_choice"
      ],
      "execution_count": 128,
      "outputs": []
    },
    {
      "cell_type": "code",
      "metadata": {
        "id": "Qn3UryE7qE9J"
      },
      "source": [
        "#Leitura da tabela\n",
        "municipios = pd.read_excel( \"Prática 1 - Base de Municípios.xlsx\", \"Municípios\" )\n",
        "map = municipios.groupby([\"Municípios (Vale do Taquari)\",\"Destino\"])[\"Distancia\"].apply(list)"
      ],
      "execution_count": 129,
      "outputs": []
    },
    {
      "cell_type": "code",
      "metadata": {
        "id": "3UF7wb0tt1kc"
      },
      "source": [
        "#Definicao dos parametros\n",
        "start = \"Arvorezinha\" #@param {type:\"string\"}\n",
        "end = \"Taquari\" #@param {type:\"string\"}\n",
        "size = 36 \n",
        "pheromone = map.copy()\n",
        "all_inds = range(size)\n",
        "n_ants = 5 #@param {type:\"number\"}\n",
        "n_best =  5#@param {type:\"number\"}\n",
        "n_iterations = 100 #@param {type:\"number\"}\n",
        "decay = 0.95\n",
        "alpha = 1\n",
        "beta = 1\n",
        "\n",
        "for s in pheromone.keys():\n",
        "  pheromone[s] = 0.000001\n",
        "  map[s] = map[s][0]\n"
      ],
      "execution_count": 130,
      "outputs": []
    },
    {
      "cell_type": "code",
      "metadata": {
        "id": "e2ro0rMJqec5"
      },
      "source": [
        "#Execução do codigo\n",
        "def run():\n",
        "  global pheromone\n",
        "  shortest_path = None\n",
        "  all_time_shortest_path = (\"placeholder\", np.inf)\n",
        "  for i in range(n_iterations):\n",
        "    all_paths = gen_all_paths()\n",
        "    spread_pheronome(all_paths, n_best, shortest_path=shortest_path)\n",
        "    shortest_path = min(all_paths, key=lambda x: x[1])\n",
        "    print (shortest_path)\n",
        "    if shortest_path[1] < all_time_shortest_path[1]:\n",
        "      all_time_shortest_path = shortest_path\n",
        "    pheromone = pheromone * decay\n",
        "  return all_time_shortest_path"
      ],
      "execution_count": 131,
      "outputs": []
    },
    {
      "cell_type": "code",
      "metadata": {
        "id": "uuGW2rRHqbwP"
      },
      "source": [
        "#Aumenta o feromonio para os caminhos\n",
        "def spread_pheronome(all_paths, n_best, shortest_path):\n",
        "  sorted_paths = sorted(all_paths, key=lambda x: x[1])\n",
        "  for path, dist in sorted_paths[:n_best]:\n",
        "    for move in path:\n",
        "      pheromone[move] += 1.0 / map[move]"
      ],
      "execution_count": 132,
      "outputs": []
    },
    {
      "cell_type": "code",
      "metadata": {
        "id": "Paa5pjtVrJu3"
      },
      "source": [
        "#Calculo da distancia para o caminho\n",
        "def gen_path_dist(path):\n",
        "  total_dist = 0\n",
        "  for ele in path:\n",
        "    total_dist += map[ele]\n",
        "  return total_dist"
      ],
      "execution_count": 133,
      "outputs": []
    },
    {
      "cell_type": "code",
      "metadata": {
        "id": "qnRhdB6JrNK3"
      },
      "source": [
        "#Gera todos os caminhos para cada formiga\n",
        "def gen_all_paths():\n",
        "  all_paths = []\n",
        "  for i in range(n_ants):\n",
        "    path = gen_path( start )\n",
        "    all_paths.append((path, gen_path_dist(path)))\n",
        "  return all_paths"
      ],
      "execution_count": 134,
      "outputs": []
    },
    {
      "cell_type": "code",
      "metadata": {
        "id": "5-cWd1mor3UY"
      },
      "source": [
        "#Gera um caminho para o inicio definido\n",
        "def gen_path(start):\n",
        "  path = []\n",
        "  visited = set()\n",
        "  visited.add(start)\n",
        "  prev = start\n",
        "  for i in range( size - 1):\n",
        "    move = pick_move(pheromone[prev], map[prev], visited)\n",
        "    path.append((prev, move))\n",
        "    prev = move\n",
        "    visited.add(move)\n",
        "\n",
        "    if move == end:\n",
        "      return path\n",
        "  return path"
      ],
      "execution_count": 135,
      "outputs": []
    },
    {
      "cell_type": "code",
      "metadata": {
        "id": "RqUnzvqbsEjA"
      },
      "source": [
        "#Escolha de qual caminho via ser seguido\n",
        "def pick_move(pheromoneo, dist, visited):\n",
        "  pheromone = pheromoneo.copy()\n",
        "  for p in pheromone.keys():\n",
        "    if p in visited:\n",
        "      pheromone[p] = 0.000001\n",
        "    elif p == end:\n",
        "      pheromone[p] = 1\n",
        "  #Definicao do peso para cada caminho disponivel\n",
        "  row = pheromone ** alpha * (( 1.0 / dist) ** beta)\n",
        "\n",
        "  #Definicao da probabilidade de escolher um caminho e escolha do caminho\n",
        "  norm_row = row / row.sum()\n",
        "  move = np_choice(dist.keys(), 1, p=norm_row)[0]\n",
        "  return move"
      ],
      "execution_count": 136,
      "outputs": []
    },
    {
      "cell_type": "code",
      "metadata": {
        "id": "DjMwkNASsYBn",
        "colab": {
          "base_uri": "https://localhost:8080/"
        },
        "outputId": "300eb640-6193-4ef8-afa8-1617a05d0ef2"
      },
      "source": [
        "print (\"shorted_path: {}\".format(run()))"
      ],
      "execution_count": 137,
      "outputs": [
        {
          "output_type": "stream",
          "name": "stdout",
          "text": [
            "([('Arvorezinha', 'Putinga'), ('Putinga', 'Ilópolis'), ('Ilópolis', 'Putinga'), ('Putinga', 'Arvorezinha'), ('Arvorezinha', 'Ilópolis'), ('Ilópolis', 'Anta Gorda'), ('Anta Gorda', 'Arvorezinha'), ('Arvorezinha', 'Ilópolis'), ('Ilópolis', 'Anta Gorda'), ('Anta Gorda', 'Ilópolis'), ('Ilópolis', 'Arvorezinha'), ('Arvorezinha', 'Ilópolis'), ('Ilópolis', 'Arvorezinha'), ('Arvorezinha', 'Anta Gorda'), ('Anta Gorda', 'Arvorezinha'), ('Arvorezinha', 'Anta Gorda'), ('Anta Gorda', 'Arvorezinha'), ('Arvorezinha', 'Ilópolis'), ('Ilópolis', 'Arvorezinha'), ('Arvorezinha', 'Putinga'), ('Putinga', 'Ilópolis'), ('Ilópolis', 'Putinga'), ('Putinga', 'Arvorezinha'), ('Arvorezinha', 'Ilópolis'), ('Ilópolis', 'Anta Gorda'), ('Anta Gorda', 'Doutor Ricardo'), ('Doutor Ricardo', 'Muçum'), ('Muçum', 'Vespasiano Corrêa'), ('Vespasiano Corrêa', 'Muçum'), ('Muçum', 'Encantado'), ('Encantado', 'Roca Sales'), ('Roca Sales', 'Encantado'), ('Encantado', 'Roca Sales'), ('Roca Sales', 'Colinas'), ('Colinas', 'Roca Sales')], 496.3)\n",
            "([('Arvorezinha', 'Ilópolis'), ('Ilópolis', 'Putinga'), ('Putinga', 'Anta Gorda'), ('Anta Gorda', 'Dois Lajeados'), ('Dois Lajeados', 'Muçum'), ('Muçum', 'Roca Sales'), ('Roca Sales', 'Encantado'), ('Encantado', 'Arroio do Meio'), ('Arroio do Meio', 'Lajeado'), ('Lajeado', 'Estrela'), ('Estrela', 'Lajeado'), ('Lajeado', 'Cruzeiro do Sul'), ('Cruzeiro do Sul', 'Santa Clara do Sul'), ('Santa Clara do Sul', 'Forquetinha'), ('Forquetinha', 'Marques de Souza'), ('Marques de Souza', 'Lajeado'), ('Lajeado', 'Estrela'), ('Estrela', 'Bom Retiro do Sul'), ('Bom Retiro do Sul', 'Taquari')], 331.90000000000003)\n",
            "([('Arvorezinha', 'Ilópolis'), ('Ilópolis', 'Putinga'), ('Putinga', 'Anta Gorda'), ('Anta Gorda', 'Doutor Ricardo'), ('Doutor Ricardo', 'Muçum'), ('Muçum', 'Encantado'), ('Encantado', 'Roca Sales'), ('Roca Sales', 'Colinas'), ('Colinas', 'Imigrante'), ('Imigrante', 'Westfália'), ('Westfália', 'Teutônia'), ('Teutônia', 'Poço das Antas'), ('Poço das Antas', 'Teutônia'), ('Teutônia', 'Paverama'), ('Paverama', 'Taquari')], 225.0)\n",
            "([('Arvorezinha', 'Ilópolis'), ('Ilópolis', 'Putinga'), ('Putinga', 'Anta Gorda'), ('Anta Gorda', 'Doutor Ricardo'), ('Doutor Ricardo', 'Muçum'), ('Muçum', 'Encantado'), ('Encantado', 'Roca Sales'), ('Roca Sales', 'Arroio do Meio'), ('Arroio do Meio', 'Lajeado'), ('Lajeado', 'Estrela'), ('Estrela', 'Bom Retiro do Sul'), ('Bom Retiro do Sul', 'Taquari')], 195.60000000000002)\n",
            "([('Arvorezinha', 'Ilópolis'), ('Ilópolis', 'Putinga'), ('Putinga', 'Anta Gorda'), ('Anta Gorda', 'Doutor Ricardo'), ('Doutor Ricardo', 'Muçum'), ('Muçum', 'Encantado'), ('Encantado', 'Roca Sales'), ('Roca Sales', 'Colinas'), ('Colinas', 'Imigrante'), ('Imigrante', 'Westfália'), ('Westfália', 'Teutônia'), ('Teutônia', 'Paverama'), ('Paverama', 'Taquari')], 193.8)\n",
            "([('Arvorezinha', 'Ilópolis'), ('Ilópolis', 'Putinga'), ('Putinga', 'Anta Gorda'), ('Anta Gorda', 'Doutor Ricardo'), ('Doutor Ricardo', 'Encantado'), ('Encantado', 'Roca Sales'), ('Roca Sales', 'Colinas'), ('Colinas', 'Imigrante'), ('Imigrante', 'Westfália'), ('Westfália', 'Teutônia'), ('Teutônia', 'Paverama'), ('Paverama', 'Taquari')], 186.10000000000002)\n",
            "([('Arvorezinha', 'Ilópolis'), ('Ilópolis', 'Putinga'), ('Putinga', 'Anta Gorda'), ('Anta Gorda', 'Doutor Ricardo'), ('Doutor Ricardo', 'Muçum'), ('Muçum', 'Roca Sales'), ('Roca Sales', 'Colinas'), ('Colinas', 'Imigrante'), ('Imigrante', 'Westfália'), ('Westfália', 'Teutônia'), ('Teutônia', 'Paverama'), ('Paverama', 'Taquari')], 193.8)\n",
            "([('Arvorezinha', 'Ilópolis'), ('Ilópolis', 'Anta Gorda'), ('Anta Gorda', 'Doutor Ricardo'), ('Doutor Ricardo', 'Muçum'), ('Muçum', 'Encantado'), ('Encantado', 'Roca Sales'), ('Roca Sales', 'Colinas'), ('Colinas', 'Imigrante'), ('Imigrante', 'Westfália'), ('Westfália', 'Teutônia'), ('Teutônia', 'Paverama'), ('Paverama', 'Taquari')], 173.2)\n",
            "([('Arvorezinha', 'Ilópolis'), ('Ilópolis', 'Putinga'), ('Putinga', 'Anta Gorda'), ('Anta Gorda', 'Doutor Ricardo'), ('Doutor Ricardo', 'Muçum'), ('Muçum', 'Encantado'), ('Encantado', 'Roca Sales'), ('Roca Sales', 'Colinas'), ('Colinas', 'Imigrante'), ('Imigrante', 'Westfália'), ('Westfália', 'Teutônia'), ('Teutônia', 'Paverama'), ('Paverama', 'Taquari')], 193.8)\n",
            "([('Arvorezinha', 'Anta Gorda'), ('Anta Gorda', 'Doutor Ricardo'), ('Doutor Ricardo', 'Muçum'), ('Muçum', 'Encantado'), ('Encantado', 'Roca Sales'), ('Roca Sales', 'Colinas'), ('Colinas', 'Imigrante'), ('Imigrante', 'Westfália'), ('Westfália', 'Teutônia'), ('Teutônia', 'Paverama'), ('Paverama', 'Taquari')], 173.09999999999997)\n",
            "([('Arvorezinha', 'Ilópolis'), ('Ilópolis', 'Anta Gorda'), ('Anta Gorda', 'Doutor Ricardo'), ('Doutor Ricardo', 'Muçum'), ('Muçum', 'Encantado'), ('Encantado', 'Roca Sales'), ('Roca Sales', 'Colinas'), ('Colinas', 'Imigrante'), ('Imigrante', 'Westfália'), ('Westfália', 'Teutônia'), ('Teutônia', 'Paverama'), ('Paverama', 'Taquari')], 173.2)\n",
            "([('Arvorezinha', 'Ilópolis'), ('Ilópolis', 'Putinga'), ('Putinga', 'Anta Gorda'), ('Anta Gorda', 'Doutor Ricardo'), ('Doutor Ricardo', 'Muçum'), ('Muçum', 'Encantado'), ('Encantado', 'Roca Sales'), ('Roca Sales', 'Colinas'), ('Colinas', 'Imigrante'), ('Imigrante', 'Westfália'), ('Westfália', 'Teutônia'), ('Teutônia', 'Paverama'), ('Paverama', 'Taquari')], 193.8)\n",
            "([('Arvorezinha', 'Putinga'), ('Putinga', 'Ilópolis'), ('Ilópolis', 'Anta Gorda'), ('Anta Gorda', 'Doutor Ricardo'), ('Doutor Ricardo', 'Muçum'), ('Muçum', 'Encantado'), ('Encantado', 'Roca Sales'), ('Roca Sales', 'Colinas'), ('Colinas', 'Imigrante'), ('Imigrante', 'Westfália'), ('Westfália', 'Teutônia'), ('Teutônia', 'Paverama'), ('Paverama', 'Taquari')], 194.0)\n",
            "([('Arvorezinha', 'Ilópolis'), ('Ilópolis', 'Anta Gorda'), ('Anta Gorda', 'Doutor Ricardo'), ('Doutor Ricardo', 'Muçum'), ('Muçum', 'Encantado'), ('Encantado', 'Roca Sales'), ('Roca Sales', 'Colinas'), ('Colinas', 'Imigrante'), ('Imigrante', 'Westfália'), ('Westfália', 'Teutônia'), ('Teutônia', 'Paverama'), ('Paverama', 'Taquari')], 173.2)\n",
            "([('Arvorezinha', 'Ilópolis'), ('Ilópolis', 'Anta Gorda'), ('Anta Gorda', 'Doutor Ricardo'), ('Doutor Ricardo', 'Encantado'), ('Encantado', 'Roca Sales'), ('Roca Sales', 'Colinas'), ('Colinas', 'Imigrante'), ('Imigrante', 'Westfália'), ('Westfália', 'Teutônia'), ('Teutônia', 'Paverama'), ('Paverama', 'Taquari')], 165.5)\n",
            "([('Arvorezinha', 'Ilópolis'), ('Ilópolis', 'Anta Gorda'), ('Anta Gorda', 'Doutor Ricardo'), ('Doutor Ricardo', 'Muçum'), ('Muçum', 'Encantado'), ('Encantado', 'Roca Sales'), ('Roca Sales', 'Colinas'), ('Colinas', 'Imigrante'), ('Imigrante', 'Westfália'), ('Westfália', 'Teutônia'), ('Teutônia', 'Paverama'), ('Paverama', 'Taquari')], 173.2)\n",
            "([('Arvorezinha', 'Ilópolis'), ('Ilópolis', 'Anta Gorda'), ('Anta Gorda', 'Doutor Ricardo'), ('Doutor Ricardo', 'Muçum'), ('Muçum', 'Encantado'), ('Encantado', 'Roca Sales'), ('Roca Sales', 'Colinas'), ('Colinas', 'Imigrante'), ('Imigrante', 'Westfália'), ('Westfália', 'Teutônia'), ('Teutônia', 'Poço das Antas'), ('Poço das Antas', 'Teutônia'), ('Teutônia', 'Paverama'), ('Paverama', 'Taquari')], 204.40000000000003)\n",
            "([('Arvorezinha', 'Ilópolis'), ('Ilópolis', 'Anta Gorda'), ('Anta Gorda', 'Doutor Ricardo'), ('Doutor Ricardo', 'Muçum'), ('Muçum', 'Encantado'), ('Encantado', 'Roca Sales'), ('Roca Sales', 'Colinas'), ('Colinas', 'Imigrante'), ('Imigrante', 'Westfália'), ('Westfália', 'Teutônia'), ('Teutônia', 'Paverama'), ('Paverama', 'Taquari')], 173.2)\n",
            "([('Arvorezinha', 'Ilópolis'), ('Ilópolis', 'Anta Gorda'), ('Anta Gorda', 'Doutor Ricardo'), ('Doutor Ricardo', 'Muçum'), ('Muçum', 'Encantado'), ('Encantado', 'Roca Sales'), ('Roca Sales', 'Colinas'), ('Colinas', 'Imigrante'), ('Imigrante', 'Westfália'), ('Westfália', 'Teutônia'), ('Teutônia', 'Paverama'), ('Paverama', 'Taquari')], 173.2)\n",
            "([('Arvorezinha', 'Ilópolis'), ('Ilópolis', 'Putinga'), ('Putinga', 'Anta Gorda'), ('Anta Gorda', 'Doutor Ricardo'), ('Doutor Ricardo', 'Encantado'), ('Encantado', 'Roca Sales'), ('Roca Sales', 'Colinas'), ('Colinas', 'Imigrante'), ('Imigrante', 'Westfália'), ('Westfália', 'Teutônia'), ('Teutônia', 'Paverama'), ('Paverama', 'Taquari')], 186.10000000000002)\n",
            "([('Arvorezinha', 'Ilópolis'), ('Ilópolis', 'Anta Gorda'), ('Anta Gorda', 'Doutor Ricardo'), ('Doutor Ricardo', 'Muçum'), ('Muçum', 'Roca Sales'), ('Roca Sales', 'Colinas'), ('Colinas', 'Imigrante'), ('Imigrante', 'Westfália'), ('Westfália', 'Teutônia'), ('Teutônia', 'Paverama'), ('Paverama', 'Taquari')], 173.2)\n",
            "([('Arvorezinha', 'Ilópolis'), ('Ilópolis', 'Anta Gorda'), ('Anta Gorda', 'Doutor Ricardo'), ('Doutor Ricardo', 'Encantado'), ('Encantado', 'Roca Sales'), ('Roca Sales', 'Colinas'), ('Colinas', 'Imigrante'), ('Imigrante', 'Westfália'), ('Westfália', 'Teutônia'), ('Teutônia', 'Paverama'), ('Paverama', 'Taquari')], 165.5)\n",
            "([('Arvorezinha', 'Ilópolis'), ('Ilópolis', 'Anta Gorda'), ('Anta Gorda', 'Doutor Ricardo'), ('Doutor Ricardo', 'Muçum'), ('Muçum', 'Encantado'), ('Encantado', 'Roca Sales'), ('Roca Sales', 'Colinas'), ('Colinas', 'Imigrante'), ('Imigrante', 'Westfália'), ('Westfália', 'Teutônia'), ('Teutônia', 'Paverama'), ('Paverama', 'Taquari')], 173.2)\n",
            "([('Arvorezinha', 'Ilópolis'), ('Ilópolis', 'Putinga'), ('Putinga', 'Anta Gorda'), ('Anta Gorda', 'Doutor Ricardo'), ('Doutor Ricardo', 'Muçum'), ('Muçum', 'Encantado'), ('Encantado', 'Roca Sales'), ('Roca Sales', 'Colinas'), ('Colinas', 'Imigrante'), ('Imigrante', 'Westfália'), ('Westfália', 'Teutônia'), ('Teutônia', 'Paverama'), ('Paverama', 'Taquari')], 193.8)\n",
            "([('Arvorezinha', 'Ilópolis'), ('Ilópolis', 'Anta Gorda'), ('Anta Gorda', 'Doutor Ricardo'), ('Doutor Ricardo', 'Muçum'), ('Muçum', 'Encantado'), ('Encantado', 'Roca Sales'), ('Roca Sales', 'Colinas'), ('Colinas', 'Imigrante'), ('Imigrante', 'Westfália'), ('Westfália', 'Teutônia'), ('Teutônia', 'Paverama'), ('Paverama', 'Taquari')], 173.2)\n",
            "([('Arvorezinha', 'Ilópolis'), ('Ilópolis', 'Putinga'), ('Putinga', 'Anta Gorda'), ('Anta Gorda', 'Doutor Ricardo'), ('Doutor Ricardo', 'Muçum'), ('Muçum', 'Encantado'), ('Encantado', 'Roca Sales'), ('Roca Sales', 'Colinas'), ('Colinas', 'Imigrante'), ('Imigrante', 'Westfália'), ('Westfália', 'Teutônia'), ('Teutônia', 'Paverama'), ('Paverama', 'Taquari')], 193.8)\n",
            "([('Arvorezinha', 'Ilópolis'), ('Ilópolis', 'Anta Gorda'), ('Anta Gorda', 'Doutor Ricardo'), ('Doutor Ricardo', 'Muçum'), ('Muçum', 'Encantado'), ('Encantado', 'Roca Sales'), ('Roca Sales', 'Colinas'), ('Colinas', 'Imigrante'), ('Imigrante', 'Westfália'), ('Westfália', 'Teutônia'), ('Teutônia', 'Paverama'), ('Paverama', 'Taquari')], 173.2)\n",
            "([('Arvorezinha', 'Ilópolis'), ('Ilópolis', 'Putinga'), ('Putinga', 'Anta Gorda'), ('Anta Gorda', 'Doutor Ricardo'), ('Doutor Ricardo', 'Encantado'), ('Encantado', 'Roca Sales'), ('Roca Sales', 'Colinas'), ('Colinas', 'Imigrante'), ('Imigrante', 'Westfália'), ('Westfália', 'Teutônia'), ('Teutônia', 'Paverama'), ('Paverama', 'Taquari')], 186.10000000000002)\n",
            "([('Arvorezinha', 'Ilópolis'), ('Ilópolis', 'Anta Gorda'), ('Anta Gorda', 'Doutor Ricardo'), ('Doutor Ricardo', 'Muçum'), ('Muçum', 'Encantado'), ('Encantado', 'Roca Sales'), ('Roca Sales', 'Colinas'), ('Colinas', 'Imigrante'), ('Imigrante', 'Westfália'), ('Westfália', 'Teutônia'), ('Teutônia', 'Paverama'), ('Paverama', 'Taquari')], 173.2)\n",
            "([('Arvorezinha', 'Ilópolis'), ('Ilópolis', 'Putinga'), ('Putinga', 'Anta Gorda'), ('Anta Gorda', 'Doutor Ricardo'), ('Doutor Ricardo', 'Muçum'), ('Muçum', 'Encantado'), ('Encantado', 'Roca Sales'), ('Roca Sales', 'Colinas'), ('Colinas', 'Imigrante'), ('Imigrante', 'Westfália'), ('Westfália', 'Teutônia'), ('Teutônia', 'Paverama'), ('Paverama', 'Taquari')], 193.8)\n",
            "([('Arvorezinha', 'Ilópolis'), ('Ilópolis', 'Putinga'), ('Putinga', 'Anta Gorda'), ('Anta Gorda', 'Doutor Ricardo'), ('Doutor Ricardo', 'Encantado'), ('Encantado', 'Roca Sales'), ('Roca Sales', 'Colinas'), ('Colinas', 'Imigrante'), ('Imigrante', 'Westfália'), ('Westfália', 'Teutônia'), ('Teutônia', 'Paverama'), ('Paverama', 'Taquari')], 186.10000000000002)\n",
            "([('Arvorezinha', 'Ilópolis'), ('Ilópolis', 'Putinga'), ('Putinga', 'Anta Gorda'), ('Anta Gorda', 'Doutor Ricardo'), ('Doutor Ricardo', 'Muçum'), ('Muçum', 'Encantado'), ('Encantado', 'Roca Sales'), ('Roca Sales', 'Colinas'), ('Colinas', 'Imigrante'), ('Imigrante', 'Westfália'), ('Westfália', 'Teutônia'), ('Teutônia', 'Paverama'), ('Paverama', 'Taquari')], 193.8)\n",
            "([('Arvorezinha', 'Ilópolis'), ('Ilópolis', 'Putinga'), ('Putinga', 'Anta Gorda'), ('Anta Gorda', 'Doutor Ricardo'), ('Doutor Ricardo', 'Muçum'), ('Muçum', 'Encantado'), ('Encantado', 'Roca Sales'), ('Roca Sales', 'Colinas'), ('Colinas', 'Imigrante'), ('Imigrante', 'Westfália'), ('Westfália', 'Teutônia'), ('Teutônia', 'Paverama'), ('Paverama', 'Taquari')], 193.8)\n",
            "([('Arvorezinha', 'Ilópolis'), ('Ilópolis', 'Putinga'), ('Putinga', 'Anta Gorda'), ('Anta Gorda', 'Doutor Ricardo'), ('Doutor Ricardo', 'Encantado'), ('Encantado', 'Roca Sales'), ('Roca Sales', 'Colinas'), ('Colinas', 'Imigrante'), ('Imigrante', 'Westfália'), ('Westfália', 'Teutônia'), ('Teutônia', 'Paverama'), ('Paverama', 'Taquari')], 186.10000000000002)\n",
            "([('Arvorezinha', 'Ilópolis'), ('Ilópolis', 'Putinga'), ('Putinga', 'Anta Gorda'), ('Anta Gorda', 'Doutor Ricardo'), ('Doutor Ricardo', 'Muçum'), ('Muçum', 'Encantado'), ('Encantado', 'Roca Sales'), ('Roca Sales', 'Colinas'), ('Colinas', 'Imigrante'), ('Imigrante', 'Westfália'), ('Westfália', 'Teutônia'), ('Teutônia', 'Paverama'), ('Paverama', 'Taquari')], 193.8)\n",
            "([('Arvorezinha', 'Ilópolis'), ('Ilópolis', 'Putinga'), ('Putinga', 'Anta Gorda'), ('Anta Gorda', 'Doutor Ricardo'), ('Doutor Ricardo', 'Muçum'), ('Muçum', 'Encantado'), ('Encantado', 'Roca Sales'), ('Roca Sales', 'Colinas'), ('Colinas', 'Imigrante'), ('Imigrante', 'Westfália'), ('Westfália', 'Teutônia'), ('Teutônia', 'Paverama'), ('Paverama', 'Taquari')], 193.8)\n",
            "([('Arvorezinha', 'Ilópolis'), ('Ilópolis', 'Anta Gorda'), ('Anta Gorda', 'Doutor Ricardo'), ('Doutor Ricardo', 'Muçum'), ('Muçum', 'Encantado'), ('Encantado', 'Roca Sales'), ('Roca Sales', 'Colinas'), ('Colinas', 'Imigrante'), ('Imigrante', 'Westfália'), ('Westfália', 'Teutônia'), ('Teutônia', 'Paverama'), ('Paverama', 'Taquari')], 173.2)\n",
            "([('Arvorezinha', 'Ilópolis'), ('Ilópolis', 'Anta Gorda'), ('Anta Gorda', 'Doutor Ricardo'), ('Doutor Ricardo', 'Muçum'), ('Muçum', 'Encantado'), ('Encantado', 'Roca Sales'), ('Roca Sales', 'Colinas'), ('Colinas', 'Imigrante'), ('Imigrante', 'Westfália'), ('Westfália', 'Teutônia'), ('Teutônia', 'Paverama'), ('Paverama', 'Taquari')], 173.2)\n",
            "([('Arvorezinha', 'Ilópolis'), ('Ilópolis', 'Anta Gorda'), ('Anta Gorda', 'Doutor Ricardo'), ('Doutor Ricardo', 'Muçum'), ('Muçum', 'Encantado'), ('Encantado', 'Roca Sales'), ('Roca Sales', 'Colinas'), ('Colinas', 'Imigrante'), ('Imigrante', 'Westfália'), ('Westfália', 'Teutônia'), ('Teutônia', 'Paverama'), ('Paverama', 'Taquari')], 173.2)\n",
            "([('Arvorezinha', 'Ilópolis'), ('Ilópolis', 'Putinga'), ('Putinga', 'Anta Gorda'), ('Anta Gorda', 'Doutor Ricardo'), ('Doutor Ricardo', 'Encantado'), ('Encantado', 'Roca Sales'), ('Roca Sales', 'Colinas'), ('Colinas', 'Imigrante'), ('Imigrante', 'Westfália'), ('Westfália', 'Teutônia'), ('Teutônia', 'Paverama'), ('Paverama', 'Taquari')], 186.10000000000002)\n",
            "([('Arvorezinha', 'Ilópolis'), ('Ilópolis', 'Putinga'), ('Putinga', 'Anta Gorda'), ('Anta Gorda', 'Doutor Ricardo'), ('Doutor Ricardo', 'Muçum'), ('Muçum', 'Encantado'), ('Encantado', 'Roca Sales'), ('Roca Sales', 'Colinas'), ('Colinas', 'Imigrante'), ('Imigrante', 'Westfália'), ('Westfália', 'Teutônia'), ('Teutônia', 'Paverama'), ('Paverama', 'Taquari')], 193.8)\n",
            "([('Arvorezinha', 'Ilópolis'), ('Ilópolis', 'Anta Gorda'), ('Anta Gorda', 'Doutor Ricardo'), ('Doutor Ricardo', 'Encantado'), ('Encantado', 'Roca Sales'), ('Roca Sales', 'Colinas'), ('Colinas', 'Imigrante'), ('Imigrante', 'Westfália'), ('Westfália', 'Teutônia'), ('Teutônia', 'Paverama'), ('Paverama', 'Taquari')], 165.5)\n",
            "([('Arvorezinha', 'Ilópolis'), ('Ilópolis', 'Anta Gorda'), ('Anta Gorda', 'Doutor Ricardo'), ('Doutor Ricardo', 'Muçum'), ('Muçum', 'Encantado'), ('Encantado', 'Roca Sales'), ('Roca Sales', 'Colinas'), ('Colinas', 'Imigrante'), ('Imigrante', 'Westfália'), ('Westfália', 'Teutônia'), ('Teutônia', 'Paverama'), ('Paverama', 'Taquari')], 173.2)\n",
            "([('Arvorezinha', 'Ilópolis'), ('Ilópolis', 'Putinga'), ('Putinga', 'Anta Gorda'), ('Anta Gorda', 'Doutor Ricardo'), ('Doutor Ricardo', 'Encantado'), ('Encantado', 'Roca Sales'), ('Roca Sales', 'Colinas'), ('Colinas', 'Imigrante'), ('Imigrante', 'Westfália'), ('Westfália', 'Teutônia'), ('Teutônia', 'Paverama'), ('Paverama', 'Taquari')], 186.10000000000002)\n",
            "([('Arvorezinha', 'Ilópolis'), ('Ilópolis', 'Anta Gorda'), ('Anta Gorda', 'Doutor Ricardo'), ('Doutor Ricardo', 'Muçum'), ('Muçum', 'Encantado'), ('Encantado', 'Roca Sales'), ('Roca Sales', 'Colinas'), ('Colinas', 'Imigrante'), ('Imigrante', 'Westfália'), ('Westfália', 'Teutônia'), ('Teutônia', 'Paverama'), ('Paverama', 'Taquari')], 173.2)\n",
            "([('Arvorezinha', 'Ilópolis'), ('Ilópolis', 'Putinga'), ('Putinga', 'Anta Gorda'), ('Anta Gorda', 'Doutor Ricardo'), ('Doutor Ricardo', 'Encantado'), ('Encantado', 'Roca Sales'), ('Roca Sales', 'Colinas'), ('Colinas', 'Imigrante'), ('Imigrante', 'Westfália'), ('Westfália', 'Teutônia'), ('Teutônia', 'Paverama'), ('Paverama', 'Taquari')], 186.10000000000002)\n",
            "([('Arvorezinha', 'Ilópolis'), ('Ilópolis', 'Anta Gorda'), ('Anta Gorda', 'Doutor Ricardo'), ('Doutor Ricardo', 'Muçum'), ('Muçum', 'Encantado'), ('Encantado', 'Roca Sales'), ('Roca Sales', 'Colinas'), ('Colinas', 'Imigrante'), ('Imigrante', 'Westfália'), ('Westfália', 'Teutônia'), ('Teutônia', 'Paverama'), ('Paverama', 'Taquari')], 173.2)\n",
            "([('Arvorezinha', 'Ilópolis'), ('Ilópolis', 'Anta Gorda'), ('Anta Gorda', 'Doutor Ricardo'), ('Doutor Ricardo', 'Muçum'), ('Muçum', 'Encantado'), ('Encantado', 'Roca Sales'), ('Roca Sales', 'Colinas'), ('Colinas', 'Imigrante'), ('Imigrante', 'Westfália'), ('Westfália', 'Teutônia'), ('Teutônia', 'Paverama'), ('Paverama', 'Taquari')], 173.2)\n",
            "([('Arvorezinha', 'Ilópolis'), ('Ilópolis', 'Putinga'), ('Putinga', 'Anta Gorda'), ('Anta Gorda', 'Doutor Ricardo'), ('Doutor Ricardo', 'Muçum'), ('Muçum', 'Encantado'), ('Encantado', 'Roca Sales'), ('Roca Sales', 'Colinas'), ('Colinas', 'Imigrante'), ('Imigrante', 'Westfália'), ('Westfália', 'Teutônia'), ('Teutônia', 'Paverama'), ('Paverama', 'Taquari')], 193.8)\n",
            "([('Arvorezinha', 'Ilópolis'), ('Ilópolis', 'Putinga'), ('Putinga', 'Anta Gorda'), ('Anta Gorda', 'Doutor Ricardo'), ('Doutor Ricardo', 'Encantado'), ('Encantado', 'Roca Sales'), ('Roca Sales', 'Colinas'), ('Colinas', 'Imigrante'), ('Imigrante', 'Westfália'), ('Westfália', 'Teutônia'), ('Teutônia', 'Paverama'), ('Paverama', 'Taquari')], 186.10000000000002)\n",
            "([('Arvorezinha', 'Ilópolis'), ('Ilópolis', 'Anta Gorda'), ('Anta Gorda', 'Doutor Ricardo'), ('Doutor Ricardo', 'Muçum'), ('Muçum', 'Encantado'), ('Encantado', 'Roca Sales'), ('Roca Sales', 'Colinas'), ('Colinas', 'Imigrante'), ('Imigrante', 'Westfália'), ('Westfália', 'Teutônia'), ('Teutônia', 'Paverama'), ('Paverama', 'Taquari')], 173.2)\n",
            "([('Arvorezinha', 'Ilópolis'), ('Ilópolis', 'Putinga'), ('Putinga', 'Anta Gorda'), ('Anta Gorda', 'Doutor Ricardo'), ('Doutor Ricardo', 'Muçum'), ('Muçum', 'Encantado'), ('Encantado', 'Roca Sales'), ('Roca Sales', 'Colinas'), ('Colinas', 'Imigrante'), ('Imigrante', 'Westfália'), ('Westfália', 'Teutônia'), ('Teutônia', 'Paverama'), ('Paverama', 'Taquari')], 193.8)\n",
            "([('Arvorezinha', 'Ilópolis'), ('Ilópolis', 'Putinga'), ('Putinga', 'Anta Gorda'), ('Anta Gorda', 'Doutor Ricardo'), ('Doutor Ricardo', 'Muçum'), ('Muçum', 'Encantado'), ('Encantado', 'Roca Sales'), ('Roca Sales', 'Colinas'), ('Colinas', 'Imigrante'), ('Imigrante', 'Westfália'), ('Westfália', 'Teutônia'), ('Teutônia', 'Paverama'), ('Paverama', 'Taquari')], 193.8)\n",
            "([('Arvorezinha', 'Ilópolis'), ('Ilópolis', 'Anta Gorda'), ('Anta Gorda', 'Doutor Ricardo'), ('Doutor Ricardo', 'Muçum'), ('Muçum', 'Encantado'), ('Encantado', 'Roca Sales'), ('Roca Sales', 'Colinas'), ('Colinas', 'Imigrante'), ('Imigrante', 'Westfália'), ('Westfália', 'Teutônia'), ('Teutônia', 'Paverama'), ('Paverama', 'Taquari')], 173.2)\n",
            "([('Arvorezinha', 'Ilópolis'), ('Ilópolis', 'Anta Gorda'), ('Anta Gorda', 'Doutor Ricardo'), ('Doutor Ricardo', 'Muçum'), ('Muçum', 'Encantado'), ('Encantado', 'Roca Sales'), ('Roca Sales', 'Colinas'), ('Colinas', 'Imigrante'), ('Imigrante', 'Westfália'), ('Westfália', 'Teutônia'), ('Teutônia', 'Paverama'), ('Paverama', 'Taquari')], 173.2)\n",
            "([('Arvorezinha', 'Ilópolis'), ('Ilópolis', 'Putinga'), ('Putinga', 'Anta Gorda'), ('Anta Gorda', 'Doutor Ricardo'), ('Doutor Ricardo', 'Encantado'), ('Encantado', 'Roca Sales'), ('Roca Sales', 'Colinas'), ('Colinas', 'Imigrante'), ('Imigrante', 'Westfália'), ('Westfália', 'Teutônia'), ('Teutônia', 'Paverama'), ('Paverama', 'Taquari')], 186.10000000000002)\n",
            "([('Arvorezinha', 'Ilópolis'), ('Ilópolis', 'Anta Gorda'), ('Anta Gorda', 'Doutor Ricardo'), ('Doutor Ricardo', 'Muçum'), ('Muçum', 'Encantado'), ('Encantado', 'Roca Sales'), ('Roca Sales', 'Colinas'), ('Colinas', 'Imigrante'), ('Imigrante', 'Westfália'), ('Westfália', 'Teutônia'), ('Teutônia', 'Paverama'), ('Paverama', 'Taquari')], 173.2)\n",
            "([('Arvorezinha', 'Ilópolis'), ('Ilópolis', 'Putinga'), ('Putinga', 'Anta Gorda'), ('Anta Gorda', 'Doutor Ricardo'), ('Doutor Ricardo', 'Encantado'), ('Encantado', 'Roca Sales'), ('Roca Sales', 'Colinas'), ('Colinas', 'Imigrante'), ('Imigrante', 'Westfália'), ('Westfália', 'Teutônia'), ('Teutônia', 'Paverama'), ('Paverama', 'Taquari')], 186.10000000000002)\n",
            "([('Arvorezinha', 'Ilópolis'), ('Ilópolis', 'Putinga'), ('Putinga', 'Anta Gorda'), ('Anta Gorda', 'Doutor Ricardo'), ('Doutor Ricardo', 'Muçum'), ('Muçum', 'Encantado'), ('Encantado', 'Roca Sales'), ('Roca Sales', 'Colinas'), ('Colinas', 'Imigrante'), ('Imigrante', 'Westfália'), ('Westfália', 'Teutônia'), ('Teutônia', 'Paverama'), ('Paverama', 'Taquari')], 193.8)\n",
            "([('Arvorezinha', 'Ilópolis'), ('Ilópolis', 'Putinga'), ('Putinga', 'Anta Gorda'), ('Anta Gorda', 'Doutor Ricardo'), ('Doutor Ricardo', 'Muçum'), ('Muçum', 'Encantado'), ('Encantado', 'Roca Sales'), ('Roca Sales', 'Colinas'), ('Colinas', 'Imigrante'), ('Imigrante', 'Westfália'), ('Westfália', 'Teutônia'), ('Teutônia', 'Paverama'), ('Paverama', 'Taquari')], 193.8)\n",
            "([('Arvorezinha', 'Ilópolis'), ('Ilópolis', 'Putinga'), ('Putinga', 'Anta Gorda'), ('Anta Gorda', 'Doutor Ricardo'), ('Doutor Ricardo', 'Muçum'), ('Muçum', 'Encantado'), ('Encantado', 'Roca Sales'), ('Roca Sales', 'Colinas'), ('Colinas', 'Imigrante'), ('Imigrante', 'Westfália'), ('Westfália', 'Teutônia'), ('Teutônia', 'Paverama'), ('Paverama', 'Taquari')], 193.8)\n",
            "([('Arvorezinha', 'Ilópolis'), ('Ilópolis', 'Putinga'), ('Putinga', 'Anta Gorda'), ('Anta Gorda', 'Doutor Ricardo'), ('Doutor Ricardo', 'Encantado'), ('Encantado', 'Roca Sales'), ('Roca Sales', 'Colinas'), ('Colinas', 'Imigrante'), ('Imigrante', 'Westfália'), ('Westfália', 'Teutônia'), ('Teutônia', 'Paverama'), ('Paverama', 'Taquari')], 186.10000000000002)\n",
            "([('Arvorezinha', 'Ilópolis'), ('Ilópolis', 'Anta Gorda'), ('Anta Gorda', 'Doutor Ricardo'), ('Doutor Ricardo', 'Muçum'), ('Muçum', 'Encantado'), ('Encantado', 'Roca Sales'), ('Roca Sales', 'Colinas'), ('Colinas', 'Imigrante'), ('Imigrante', 'Westfália'), ('Westfália', 'Teutônia'), ('Teutônia', 'Paverama'), ('Paverama', 'Taquari')], 173.2)\n",
            "([('Arvorezinha', 'Ilópolis'), ('Ilópolis', 'Putinga'), ('Putinga', 'Anta Gorda'), ('Anta Gorda', 'Doutor Ricardo'), ('Doutor Ricardo', 'Muçum'), ('Muçum', 'Encantado'), ('Encantado', 'Roca Sales'), ('Roca Sales', 'Colinas'), ('Colinas', 'Imigrante'), ('Imigrante', 'Westfália'), ('Westfália', 'Teutônia'), ('Teutônia', 'Paverama'), ('Paverama', 'Taquari')], 193.8)\n",
            "([('Arvorezinha', 'Ilópolis'), ('Ilópolis', 'Anta Gorda'), ('Anta Gorda', 'Doutor Ricardo'), ('Doutor Ricardo', 'Muçum'), ('Muçum', 'Encantado'), ('Encantado', 'Roca Sales'), ('Roca Sales', 'Colinas'), ('Colinas', 'Imigrante'), ('Imigrante', 'Westfália'), ('Westfália', 'Teutônia'), ('Teutônia', 'Paverama'), ('Paverama', 'Taquari')], 173.2)\n",
            "([('Arvorezinha', 'Ilópolis'), ('Ilópolis', 'Putinga'), ('Putinga', 'Anta Gorda'), ('Anta Gorda', 'Doutor Ricardo'), ('Doutor Ricardo', 'Muçum'), ('Muçum', 'Encantado'), ('Encantado', 'Roca Sales'), ('Roca Sales', 'Colinas'), ('Colinas', 'Imigrante'), ('Imigrante', 'Westfália'), ('Westfália', 'Teutônia'), ('Teutônia', 'Paverama'), ('Paverama', 'Taquari')], 193.8)\n",
            "([('Arvorezinha', 'Ilópolis'), ('Ilópolis', 'Putinga'), ('Putinga', 'Anta Gorda'), ('Anta Gorda', 'Doutor Ricardo'), ('Doutor Ricardo', 'Muçum'), ('Muçum', 'Encantado'), ('Encantado', 'Roca Sales'), ('Roca Sales', 'Colinas'), ('Colinas', 'Imigrante'), ('Imigrante', 'Westfália'), ('Westfália', 'Teutônia'), ('Teutônia', 'Paverama'), ('Paverama', 'Taquari')], 193.8)\n",
            "([('Arvorezinha', 'Ilópolis'), ('Ilópolis', 'Putinga'), ('Putinga', 'Anta Gorda'), ('Anta Gorda', 'Doutor Ricardo'), ('Doutor Ricardo', 'Muçum'), ('Muçum', 'Encantado'), ('Encantado', 'Roca Sales'), ('Roca Sales', 'Colinas'), ('Colinas', 'Imigrante'), ('Imigrante', 'Westfália'), ('Westfália', 'Teutônia'), ('Teutônia', 'Paverama'), ('Paverama', 'Taquari')], 193.8)\n",
            "([('Arvorezinha', 'Ilópolis'), ('Ilópolis', 'Putinga'), ('Putinga', 'Anta Gorda'), ('Anta Gorda', 'Doutor Ricardo'), ('Doutor Ricardo', 'Muçum'), ('Muçum', 'Encantado'), ('Encantado', 'Roca Sales'), ('Roca Sales', 'Colinas'), ('Colinas', 'Imigrante'), ('Imigrante', 'Westfália'), ('Westfália', 'Teutônia'), ('Teutônia', 'Paverama'), ('Paverama', 'Taquari')], 193.8)\n",
            "([('Arvorezinha', 'Ilópolis'), ('Ilópolis', 'Putinga'), ('Putinga', 'Anta Gorda'), ('Anta Gorda', 'Doutor Ricardo'), ('Doutor Ricardo', 'Muçum'), ('Muçum', 'Encantado'), ('Encantado', 'Roca Sales'), ('Roca Sales', 'Colinas'), ('Colinas', 'Imigrante'), ('Imigrante', 'Westfália'), ('Westfália', 'Teutônia'), ('Teutônia', 'Paverama'), ('Paverama', 'Taquari')], 193.8)\n",
            "([('Arvorezinha', 'Ilópolis'), ('Ilópolis', 'Anta Gorda'), ('Anta Gorda', 'Doutor Ricardo'), ('Doutor Ricardo', 'Muçum'), ('Muçum', 'Encantado'), ('Encantado', 'Roca Sales'), ('Roca Sales', 'Colinas'), ('Colinas', 'Imigrante'), ('Imigrante', 'Westfália'), ('Westfália', 'Teutônia'), ('Teutônia', 'Paverama'), ('Paverama', 'Taquari')], 173.2)\n",
            "([('Arvorezinha', 'Ilópolis'), ('Ilópolis', 'Putinga'), ('Putinga', 'Anta Gorda'), ('Anta Gorda', 'Doutor Ricardo'), ('Doutor Ricardo', 'Muçum'), ('Muçum', 'Encantado'), ('Encantado', 'Roca Sales'), ('Roca Sales', 'Colinas'), ('Colinas', 'Imigrante'), ('Imigrante', 'Westfália'), ('Westfália', 'Teutônia'), ('Teutônia', 'Paverama'), ('Paverama', 'Taquari')], 193.8)\n",
            "([('Arvorezinha', 'Ilópolis'), ('Ilópolis', 'Anta Gorda'), ('Anta Gorda', 'Doutor Ricardo'), ('Doutor Ricardo', 'Muçum'), ('Muçum', 'Encantado'), ('Encantado', 'Roca Sales'), ('Roca Sales', 'Colinas'), ('Colinas', 'Imigrante'), ('Imigrante', 'Westfália'), ('Westfália', 'Teutônia'), ('Teutônia', 'Paverama'), ('Paverama', 'Taquari')], 173.2)\n",
            "([('Arvorezinha', 'Ilópolis'), ('Ilópolis', 'Putinga'), ('Putinga', 'Anta Gorda'), ('Anta Gorda', 'Doutor Ricardo'), ('Doutor Ricardo', 'Muçum'), ('Muçum', 'Encantado'), ('Encantado', 'Roca Sales'), ('Roca Sales', 'Colinas'), ('Colinas', 'Imigrante'), ('Imigrante', 'Westfália'), ('Westfália', 'Teutônia'), ('Teutônia', 'Paverama'), ('Paverama', 'Taquari')], 193.8)\n",
            "([('Arvorezinha', 'Ilópolis'), ('Ilópolis', 'Putinga'), ('Putinga', 'Anta Gorda'), ('Anta Gorda', 'Doutor Ricardo'), ('Doutor Ricardo', 'Muçum'), ('Muçum', 'Encantado'), ('Encantado', 'Roca Sales'), ('Roca Sales', 'Colinas'), ('Colinas', 'Imigrante'), ('Imigrante', 'Westfália'), ('Westfália', 'Teutônia'), ('Teutônia', 'Paverama'), ('Paverama', 'Taquari')], 193.8)\n",
            "([('Arvorezinha', 'Ilópolis'), ('Ilópolis', 'Putinga'), ('Putinga', 'Anta Gorda'), ('Anta Gorda', 'Doutor Ricardo'), ('Doutor Ricardo', 'Muçum'), ('Muçum', 'Encantado'), ('Encantado', 'Roca Sales'), ('Roca Sales', 'Colinas'), ('Colinas', 'Imigrante'), ('Imigrante', 'Westfália'), ('Westfália', 'Teutônia'), ('Teutônia', 'Paverama'), ('Paverama', 'Taquari')], 193.8)\n",
            "([('Arvorezinha', 'Ilópolis'), ('Ilópolis', 'Putinga'), ('Putinga', 'Anta Gorda'), ('Anta Gorda', 'Doutor Ricardo'), ('Doutor Ricardo', 'Encantado'), ('Encantado', 'Roca Sales'), ('Roca Sales', 'Colinas'), ('Colinas', 'Imigrante'), ('Imigrante', 'Westfália'), ('Westfália', 'Teutônia'), ('Teutônia', 'Paverama'), ('Paverama', 'Taquari')], 186.10000000000002)\n",
            "([('Arvorezinha', 'Ilópolis'), ('Ilópolis', 'Putinga'), ('Putinga', 'Anta Gorda'), ('Anta Gorda', 'Doutor Ricardo'), ('Doutor Ricardo', 'Muçum'), ('Muçum', 'Encantado'), ('Encantado', 'Roca Sales'), ('Roca Sales', 'Colinas'), ('Colinas', 'Imigrante'), ('Imigrante', 'Westfália'), ('Westfália', 'Teutônia'), ('Teutônia', 'Paverama'), ('Paverama', 'Taquari')], 193.8)\n",
            "([('Arvorezinha', 'Ilópolis'), ('Ilópolis', 'Anta Gorda'), ('Anta Gorda', 'Doutor Ricardo'), ('Doutor Ricardo', 'Muçum'), ('Muçum', 'Encantado'), ('Encantado', 'Roca Sales'), ('Roca Sales', 'Colinas'), ('Colinas', 'Imigrante'), ('Imigrante', 'Westfália'), ('Westfália', 'Teutônia'), ('Teutônia', 'Paverama'), ('Paverama', 'Taquari')], 173.2)\n",
            "([('Arvorezinha', 'Ilópolis'), ('Ilópolis', 'Anta Gorda'), ('Anta Gorda', 'Doutor Ricardo'), ('Doutor Ricardo', 'Muçum'), ('Muçum', 'Encantado'), ('Encantado', 'Roca Sales'), ('Roca Sales', 'Colinas'), ('Colinas', 'Imigrante'), ('Imigrante', 'Westfália'), ('Westfália', 'Teutônia'), ('Teutônia', 'Paverama'), ('Paverama', 'Taquari')], 173.2)\n",
            "([('Arvorezinha', 'Ilópolis'), ('Ilópolis', 'Putinga'), ('Putinga', 'Anta Gorda'), ('Anta Gorda', 'Doutor Ricardo'), ('Doutor Ricardo', 'Muçum'), ('Muçum', 'Encantado'), ('Encantado', 'Roca Sales'), ('Roca Sales', 'Colinas'), ('Colinas', 'Imigrante'), ('Imigrante', 'Westfália'), ('Westfália', 'Teutônia'), ('Teutônia', 'Paverama'), ('Paverama', 'Taquari')], 193.8)\n",
            "([('Arvorezinha', 'Ilópolis'), ('Ilópolis', 'Putinga'), ('Putinga', 'Anta Gorda'), ('Anta Gorda', 'Doutor Ricardo'), ('Doutor Ricardo', 'Muçum'), ('Muçum', 'Encantado'), ('Encantado', 'Roca Sales'), ('Roca Sales', 'Colinas'), ('Colinas', 'Imigrante'), ('Imigrante', 'Westfália'), ('Westfália', 'Teutônia'), ('Teutônia', 'Paverama'), ('Paverama', 'Taquari')], 193.8)\n",
            "([('Arvorezinha', 'Ilópolis'), ('Ilópolis', 'Putinga'), ('Putinga', 'Anta Gorda'), ('Anta Gorda', 'Doutor Ricardo'), ('Doutor Ricardo', 'Muçum'), ('Muçum', 'Encantado'), ('Encantado', 'Roca Sales'), ('Roca Sales', 'Colinas'), ('Colinas', 'Imigrante'), ('Imigrante', 'Westfália'), ('Westfália', 'Teutônia'), ('Teutônia', 'Paverama'), ('Paverama', 'Taquari')], 193.8)\n",
            "([('Arvorezinha', 'Ilópolis'), ('Ilópolis', 'Putinga'), ('Putinga', 'Anta Gorda'), ('Anta Gorda', 'Doutor Ricardo'), ('Doutor Ricardo', 'Encantado'), ('Encantado', 'Roca Sales'), ('Roca Sales', 'Colinas'), ('Colinas', 'Imigrante'), ('Imigrante', 'Westfália'), ('Westfália', 'Teutônia'), ('Teutônia', 'Paverama'), ('Paverama', 'Taquari')], 186.10000000000002)\n",
            "([('Arvorezinha', 'Ilópolis'), ('Ilópolis', 'Putinga'), ('Putinga', 'Anta Gorda'), ('Anta Gorda', 'Doutor Ricardo'), ('Doutor Ricardo', 'Muçum'), ('Muçum', 'Encantado'), ('Encantado', 'Roca Sales'), ('Roca Sales', 'Colinas'), ('Colinas', 'Imigrante'), ('Imigrante', 'Westfália'), ('Westfália', 'Teutônia'), ('Teutônia', 'Paverama'), ('Paverama', 'Taquari')], 193.8)\n",
            "([('Arvorezinha', 'Ilópolis'), ('Ilópolis', 'Putinga'), ('Putinga', 'Anta Gorda'), ('Anta Gorda', 'Doutor Ricardo'), ('Doutor Ricardo', 'Muçum'), ('Muçum', 'Encantado'), ('Encantado', 'Roca Sales'), ('Roca Sales', 'Colinas'), ('Colinas', 'Imigrante'), ('Imigrante', 'Westfália'), ('Westfália', 'Teutônia'), ('Teutônia', 'Paverama'), ('Paverama', 'Taquari')], 193.8)\n",
            "([('Arvorezinha', 'Ilópolis'), ('Ilópolis', 'Putinga'), ('Putinga', 'Anta Gorda'), ('Anta Gorda', 'Doutor Ricardo'), ('Doutor Ricardo', 'Muçum'), ('Muçum', 'Encantado'), ('Encantado', 'Roca Sales'), ('Roca Sales', 'Colinas'), ('Colinas', 'Imigrante'), ('Imigrante', 'Westfália'), ('Westfália', 'Teutônia'), ('Teutônia', 'Paverama'), ('Paverama', 'Taquari')], 193.8)\n",
            "([('Arvorezinha', 'Ilópolis'), ('Ilópolis', 'Putinga'), ('Putinga', 'Anta Gorda'), ('Anta Gorda', 'Doutor Ricardo'), ('Doutor Ricardo', 'Encantado'), ('Encantado', 'Roca Sales'), ('Roca Sales', 'Colinas'), ('Colinas', 'Imigrante'), ('Imigrante', 'Westfália'), ('Westfália', 'Teutônia'), ('Teutônia', 'Paverama'), ('Paverama', 'Taquari')], 186.10000000000002)\n",
            "([('Arvorezinha', 'Ilópolis'), ('Ilópolis', 'Putinga'), ('Putinga', 'Anta Gorda'), ('Anta Gorda', 'Doutor Ricardo'), ('Doutor Ricardo', 'Muçum'), ('Muçum', 'Encantado'), ('Encantado', 'Roca Sales'), ('Roca Sales', 'Colinas'), ('Colinas', 'Imigrante'), ('Imigrante', 'Westfália'), ('Westfália', 'Teutônia'), ('Teutônia', 'Paverama'), ('Paverama', 'Taquari')], 193.8)\n",
            "([('Arvorezinha', 'Ilópolis'), ('Ilópolis', 'Putinga'), ('Putinga', 'Anta Gorda'), ('Anta Gorda', 'Doutor Ricardo'), ('Doutor Ricardo', 'Muçum'), ('Muçum', 'Encantado'), ('Encantado', 'Roca Sales'), ('Roca Sales', 'Colinas'), ('Colinas', 'Imigrante'), ('Imigrante', 'Westfália'), ('Westfália', 'Teutônia'), ('Teutônia', 'Paverama'), ('Paverama', 'Taquari')], 193.8)\n",
            "([('Arvorezinha', 'Ilópolis'), ('Ilópolis', 'Putinga'), ('Putinga', 'Anta Gorda'), ('Anta Gorda', 'Doutor Ricardo'), ('Doutor Ricardo', 'Muçum'), ('Muçum', 'Encantado'), ('Encantado', 'Roca Sales'), ('Roca Sales', 'Colinas'), ('Colinas', 'Imigrante'), ('Imigrante', 'Westfália'), ('Westfália', 'Teutônia'), ('Teutônia', 'Paverama'), ('Paverama', 'Taquari')], 193.8)\n",
            "([('Arvorezinha', 'Ilópolis'), ('Ilópolis', 'Putinga'), ('Putinga', 'Anta Gorda'), ('Anta Gorda', 'Doutor Ricardo'), ('Doutor Ricardo', 'Muçum'), ('Muçum', 'Encantado'), ('Encantado', 'Roca Sales'), ('Roca Sales', 'Colinas'), ('Colinas', 'Imigrante'), ('Imigrante', 'Westfália'), ('Westfália', 'Teutônia'), ('Teutônia', 'Paverama'), ('Paverama', 'Taquari')], 193.8)\n",
            "([('Arvorezinha', 'Ilópolis'), ('Ilópolis', 'Anta Gorda'), ('Anta Gorda', 'Doutor Ricardo'), ('Doutor Ricardo', 'Muçum'), ('Muçum', 'Encantado'), ('Encantado', 'Roca Sales'), ('Roca Sales', 'Colinas'), ('Colinas', 'Imigrante'), ('Imigrante', 'Westfália'), ('Westfália', 'Teutônia'), ('Teutônia', 'Paverama'), ('Paverama', 'Taquari')], 173.2)\n",
            "([('Arvorezinha', 'Ilópolis'), ('Ilópolis', 'Putinga'), ('Putinga', 'Anta Gorda'), ('Anta Gorda', 'Doutor Ricardo'), ('Doutor Ricardo', 'Muçum'), ('Muçum', 'Encantado'), ('Encantado', 'Roca Sales'), ('Roca Sales', 'Colinas'), ('Colinas', 'Imigrante'), ('Imigrante', 'Westfália'), ('Westfália', 'Teutônia'), ('Teutônia', 'Paverama'), ('Paverama', 'Taquari')], 193.8)\n",
            "([('Arvorezinha', 'Ilópolis'), ('Ilópolis', 'Putinga'), ('Putinga', 'Anta Gorda'), ('Anta Gorda', 'Doutor Ricardo'), ('Doutor Ricardo', 'Muçum'), ('Muçum', 'Encantado'), ('Encantado', 'Roca Sales'), ('Roca Sales', 'Colinas'), ('Colinas', 'Imigrante'), ('Imigrante', 'Westfália'), ('Westfália', 'Teutônia'), ('Teutônia', 'Paverama'), ('Paverama', 'Taquari')], 193.8)\n",
            "([('Arvorezinha', 'Ilópolis'), ('Ilópolis', 'Putinga'), ('Putinga', 'Anta Gorda'), ('Anta Gorda', 'Doutor Ricardo'), ('Doutor Ricardo', 'Muçum'), ('Muçum', 'Encantado'), ('Encantado', 'Roca Sales'), ('Roca Sales', 'Colinas'), ('Colinas', 'Imigrante'), ('Imigrante', 'Westfália'), ('Westfália', 'Teutônia'), ('Teutônia', 'Paverama'), ('Paverama', 'Taquari')], 193.8)\n",
            "([('Arvorezinha', 'Ilópolis'), ('Ilópolis', 'Putinga'), ('Putinga', 'Anta Gorda'), ('Anta Gorda', 'Doutor Ricardo'), ('Doutor Ricardo', 'Muçum'), ('Muçum', 'Encantado'), ('Encantado', 'Roca Sales'), ('Roca Sales', 'Colinas'), ('Colinas', 'Imigrante'), ('Imigrante', 'Westfália'), ('Westfália', 'Teutônia'), ('Teutônia', 'Paverama'), ('Paverama', 'Taquari')], 193.8)\n",
            "([('Arvorezinha', 'Ilópolis'), ('Ilópolis', 'Putinga'), ('Putinga', 'Anta Gorda'), ('Anta Gorda', 'Doutor Ricardo'), ('Doutor Ricardo', 'Muçum'), ('Muçum', 'Encantado'), ('Encantado', 'Roca Sales'), ('Roca Sales', 'Colinas'), ('Colinas', 'Imigrante'), ('Imigrante', 'Westfália'), ('Westfália', 'Teutônia'), ('Teutônia', 'Paverama'), ('Paverama', 'Taquari')], 193.8)\n",
            "([('Arvorezinha', 'Ilópolis'), ('Ilópolis', 'Putinga'), ('Putinga', 'Anta Gorda'), ('Anta Gorda', 'Doutor Ricardo'), ('Doutor Ricardo', 'Muçum'), ('Muçum', 'Encantado'), ('Encantado', 'Roca Sales'), ('Roca Sales', 'Colinas'), ('Colinas', 'Imigrante'), ('Imigrante', 'Westfália'), ('Westfália', 'Teutônia'), ('Teutônia', 'Paverama'), ('Paverama', 'Taquari')], 193.8)\n",
            "([('Arvorezinha', 'Ilópolis'), ('Ilópolis', 'Putinga'), ('Putinga', 'Anta Gorda'), ('Anta Gorda', 'Doutor Ricardo'), ('Doutor Ricardo', 'Encantado'), ('Encantado', 'Roca Sales'), ('Roca Sales', 'Colinas'), ('Colinas', 'Imigrante'), ('Imigrante', 'Westfália'), ('Westfália', 'Teutônia'), ('Teutônia', 'Paverama'), ('Paverama', 'Taquari')], 186.10000000000002)\n",
            "shorted_path: ([('Arvorezinha', 'Ilópolis'), ('Ilópolis', 'Anta Gorda'), ('Anta Gorda', 'Doutor Ricardo'), ('Doutor Ricardo', 'Encantado'), ('Encantado', 'Roca Sales'), ('Roca Sales', 'Colinas'), ('Colinas', 'Imigrante'), ('Imigrante', 'Westfália'), ('Westfália', 'Teutônia'), ('Teutônia', 'Paverama'), ('Paverama', 'Taquari')], 165.5)\n"
          ]
        }
      ]
    }
  ]
}